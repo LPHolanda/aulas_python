{
 "cells": [
  {
   "cell_type": "markdown",
   "metadata": {},
   "source": [
    "## Sintaxe básica"
   ]
  },
  {
   "cell_type": "code",
   "execution_count": 1,
   "metadata": {
    "collapsed": false
   },
   "outputs": [
    {
     "name": "stdout",
     "output_type": "stream",
     "text": [
      "{'Baleia': 'Mamífero', 'Grilo': 'Inseto', 'Lagarto': 'Réptil'}\n"
     ]
    }
   ],
   "source": [
    "## forma procedural\n",
    "ESPECIES = 'baleia', 'grilo', 'lagarto'\n",
    "CLASSES = 'mamífero', 'inseto', 'réptil'\n",
    "\n",
    "d = {}\n",
    "for especie, classe in zip(ESPECIES, CLASSES):\n",
    "    d[especie.capitalize()] = classe.capitalize()\n",
    "print(d)"
   ]
  },
  {
   "cell_type": "code",
   "execution_count": 4,
   "metadata": {
    "collapsed": false
   },
   "outputs": [
    {
     "name": "stdout",
     "output_type": "stream",
     "text": [
      "{'Baleia': 'Mamífero', 'Grilo': 'Inseto', 'Lagarto': 'Réptil'}\n"
     ]
    }
   ],
   "source": [
    "d = {especie.capitalize(): classe.capitalize() for especie, classe in zip(ESPECIES,CLASSES)}\n",
    "print(d)"
   ]
  },
  {
   "cell_type": "markdown",
   "metadata": {},
   "source": [
    "## Filtrando dict comprehensions"
   ]
  },
  {
   "cell_type": "code",
   "execution_count": 5,
   "metadata": {
    "collapsed": false
   },
   "outputs": [
    {
     "name": "stdout",
     "output_type": "stream",
     "text": [
      "{'Baleia': 'Mamífero', 'Lagarto': 'Réptil'}\n"
     ]
    }
   ],
   "source": [
    "## forma procedural\n",
    "d = {}\n",
    "for especie, classe in zip(ESPECIES, CLASSES):\n",
    "    if classe == 'inseto':\n",
    "        continue\n",
    "    d[especie.capitalize()] = classe.capitalize()\n",
    "print(d)"
   ]
  },
  {
   "cell_type": "markdown",
   "metadata": {},
   "source": [
    "## Fazendo o mesmo com dict comprehension"
   ]
  },
  {
   "cell_type": "code",
   "execution_count": 6,
   "metadata": {
    "collapsed": false
   },
   "outputs": [
    {
     "name": "stdout",
     "output_type": "stream",
     "text": [
      "{'Baleia': 'Mamífero', 'Lagarto': 'Réptil'}\n"
     ]
    }
   ],
   "source": [
    "d = {\n",
    "    especie.capitalize(): classe.capitalize()\n",
    "    for especie, classe in zip(ESPECIES, CLASSES)\n",
    "    if classe != 'inseto'\n",
    "}\n",
    "print(d)"
   ]
  },
  {
   "cell_type": "code",
   "execution_count": null,
   "metadata": {
    "collapsed": true
   },
   "outputs": [],
   "source": []
  }
 ],
 "metadata": {
  "kernelspec": {
   "display_name": "Python 3",
   "language": "python",
   "name": "python3"
  },
  "language_info": {
   "codemirror_mode": {
    "name": "ipython",
    "version": 3
   },
   "file_extension": ".py",
   "mimetype": "text/x-python",
   "name": "python",
   "nbconvert_exporter": "python",
   "pygments_lexer": "ipython3",
   "version": "3.6.0"
  }
 },
 "nbformat": 4,
 "nbformat_minor": 2
}
