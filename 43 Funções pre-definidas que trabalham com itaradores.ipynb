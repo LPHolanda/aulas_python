{
 "cells": [
  {
   "cell_type": "markdown",
   "metadata": {},
   "source": [
    "## zip(): liga elementos de múltiplos iteradores"
   ]
  },
  {
   "cell_type": "markdown",
   "metadata": {},
   "source": [
    "### sem zip()"
   ]
  },
  {
   "cell_type": "code",
   "execution_count": 2,
   "metadata": {
    "collapsed": false
   },
   "outputs": [
    {
     "name": "stdout",
     "output_type": "stream",
     "text": [
      "Baleia é um Mamífero e tem um grau de fofura 3\n",
      "Lagarto é um Réptil e tem um grau de fofura 2\n",
      "Formiga é um Inseto e tem um grau de fofura 1\n"
     ]
    }
   ],
   "source": [
    "lista_especies = ['Baleia', 'Lagarto', 'Formiga']\n",
    "lista_classes = ['Mamífero', 'Réptil', 'Inseto']\n",
    "lista_fofura = [3, 2, 1, 0]\n",
    "\n",
    "for i in range(len(lista_especies)):\n",
    "    especie = lista_especies[i]\n",
    "    classe = lista_classes[i]\n",
    "    fofura = lista_fofura[i]\n",
    "    print('%s é um %s e tem um grau de fofura %d' %(especie, classe, fofura))"
   ]
  },
  {
   "cell_type": "markdown",
   "metadata": {},
   "source": [
    "### com zip()"
   ]
  },
  {
   "cell_type": "code",
   "execution_count": 4,
   "metadata": {
    "collapsed": false
   },
   "outputs": [
    {
     "name": "stdout",
     "output_type": "stream",
     "text": [
      "Baleia é um Mamífero e tem um grau de fofura 3\n",
      "Lagarto é um Réptil e tem um grau de fofura 2\n",
      "Formiga é um Inseto e tem um grau de fofura 1\n"
     ]
    }
   ],
   "source": [
    "for especie, classe, fofura in zip(lista_especies, lista_classes, lista_fofura):\n",
    "    print('%s é um %s e tem um grau de fofura %d' %(especie, classe, fofura))"
   ]
  },
  {
   "cell_type": "markdown",
   "metadata": {},
   "source": [
    "## map(): aplica uma função para cada elemento de um iterador\n",
    "O primeiro argumento do map é a função e o segundo é o iterador"
   ]
  },
  {
   "cell_type": "code",
   "execution_count": 7,
   "metadata": {
    "collapsed": false
   },
   "outputs": [
    {
     "name": "stdout",
     "output_type": "stream",
     "text": [
      "1.0\n",
      "1.0\n",
      "1.4142135623730951\n",
      "1.7320508075688772\n",
      "2.23606797749979\n",
      "2.8284271247461903\n"
     ]
    }
   ],
   "source": [
    "from math import sqrt\n",
    "fibonacci = [1,1,2,3,5,8]\n",
    "for i in map(sqrt, fibonacci):\n",
    "    print(i)"
   ]
  },
  {
   "cell_type": "markdown",
   "metadata": {},
   "source": [
    "## enumerate(): aloca índices nos elementos"
   ]
  },
  {
   "cell_type": "markdown",
   "metadata": {},
   "source": [
    "### sem enumerate()"
   ]
  },
  {
   "cell_type": "code",
   "execution_count": 8,
   "metadata": {
    "collapsed": false
   },
   "outputs": [
    {
     "name": "stdout",
     "output_type": "stream",
     "text": [
      "0 Baleia\n",
      "0 Baleia\n",
      "1 Lagarto\n",
      "1 Lagarto\n",
      "2 Formiga\n",
      "2 Formiga\n"
     ]
    }
   ],
   "source": [
    "i = 0\n",
    "for especie in lista_especies:\n",
    "    print(i, especie)\n",
    "    print(i, especie)\n",
    "    i += 1"
   ]
  },
  {
   "cell_type": "markdown",
   "metadata": {},
   "source": [
    "### com enumerate()"
   ]
  },
  {
   "cell_type": "code",
   "execution_count": 9,
   "metadata": {
    "collapsed": false
   },
   "outputs": [
    {
     "name": "stdout",
     "output_type": "stream",
     "text": [
      "0 Baleia\n",
      "1 Lagarto\n",
      "2 Formiga\n"
     ]
    }
   ],
   "source": [
    "for i, especie in enumerate(lista_especies):\n",
    "    print(i, especie)"
   ]
  },
  {
   "cell_type": "markdown",
   "metadata": {},
   "source": [
    "## filter(): exclue elementos\n",
    "O primeiro elemento do filter é a função boleana e o segundo é o iterador"
   ]
  },
  {
   "cell_type": "markdown",
   "metadata": {},
   "source": [
    "### sem filtro()"
   ]
  },
  {
   "cell_type": "code",
   "execution_count": 10,
   "metadata": {
    "collapsed": false
   },
   "outputs": [
    {
     "name": "stdout",
     "output_type": "stream",
     "text": [
      "2\n",
      "8\n"
     ]
    }
   ],
   "source": [
    "for i in fibonacci:\n",
    "    if i % 2:\n",
    "        continue\n",
    "    print(i)"
   ]
  },
  {
   "cell_type": "markdown",
   "metadata": {},
   "source": [
    "### com filtro()"
   ]
  },
  {
   "cell_type": "code",
   "execution_count": 11,
   "metadata": {
    "collapsed": false
   },
   "outputs": [
    {
     "name": "stdout",
     "output_type": "stream",
     "text": [
      "2\n",
      "8\n"
     ]
    }
   ],
   "source": [
    "for i in filter(lambda i: not i%2, fibonacci):\n",
    "    print(i)"
   ]
  },
  {
   "cell_type": "code",
   "execution_count": null,
   "metadata": {
    "collapsed": true
   },
   "outputs": [],
   "source": []
  }
 ],
 "metadata": {
  "kernelspec": {
   "display_name": "Python 3",
   "language": "python",
   "name": "python3"
  },
  "language_info": {
   "codemirror_mode": {
    "name": "ipython",
    "version": 3
   },
   "file_extension": ".py",
   "mimetype": "text/x-python",
   "name": "python",
   "nbconvert_exporter": "python",
   "pygments_lexer": "ipython3",
   "version": "3.6.0"
  }
 },
 "nbformat": 4,
 "nbformat_minor": 2
}
