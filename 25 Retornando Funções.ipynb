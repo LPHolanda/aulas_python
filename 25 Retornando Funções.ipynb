{
 "cells": [
  {
   "cell_type": "markdown",
   "metadata": {},
   "source": [
    "## 4 passos para assar pão"
   ]
  },
  {
   "cell_type": "code",
   "execution_count": 1,
   "metadata": {
    "collapsed": true
   },
   "outputs": [],
   "source": [
    "preaquecer_forno = lambda: print(\"Preaquecer o forno\")\n",
    "colocar_pao = lambda: print(\"Colocar o pão no forno\")\n",
    "esperar_cinco_minutos = lambda: print(\"Esperar cinco minutos\")\n",
    "tirar_pao = lambda: print(\"Tirar o pão do forno\")"
   ]
  },
  {
   "cell_type": "code",
   "execution_count": 2,
   "metadata": {
    "collapsed": false
   },
   "outputs": [
    {
     "name": "stdout",
     "output_type": "stream",
     "text": [
      "Preaquecer o forno\n",
      "Colocar o pão no forno\n",
      "Esperar cinco minutos\n",
      "Tirar o pão do forno\n"
     ]
    }
   ],
   "source": [
    "preaquecer_forno()\n",
    "colocar_pao()\n",
    "esperar_cinco_minutos()\n",
    "tirar_pao()"
   ]
  },
  {
   "cell_type": "markdown",
   "metadata": {},
   "source": [
    "## Usar uma função de execução (launcher function)"
   ]
  },
  {
   "cell_type": "code",
   "execution_count": 6,
   "metadata": {
    "collapsed": false
   },
   "outputs": [
    {
     "name": "stdout",
     "output_type": "stream",
     "text": [
      "Preaquecer o forno\n",
      "Colocar o pão no forno\n",
      "Esperar cinco minutos\n",
      "Tirar o pão do forno\n"
     ]
    }
   ],
   "source": [
    "def executar_passos(*funcoes):\n",
    "    for funcao in funcoes:\n",
    "        funcao()\n",
    "\n",
    "executar_passos(preaquecer_forno,\n",
    "                colocar_pao,\n",
    "                esperar_cinco_minutos,\n",
    "                tirar_pao)"
   ]
  },
  {
   "cell_type": "code",
   "execution_count": 8,
   "metadata": {
    "collapsed": false
   },
   "outputs": [
    {
     "name": "stdout",
     "output_type": "stream",
     "text": [
      "Preaquecer o forno\n",
      "Colocar o pão no forno\n",
      "Esperar cinco minutos\n",
      "Tirar o pão do forno\n"
     ]
    }
   ],
   "source": [
    "def criar_receita(*funcoes):\n",
    "    \n",
    "    def executar_todas():\n",
    "        \n",
    "        for funcao in funcoes:\n",
    "            funcao()\n",
    "            \n",
    "    return executar_todas\n",
    "\n",
    "receita = criar_receita(preaquecer_forno,\n",
    "                colocar_pao,\n",
    "                esperar_cinco_minutos,\n",
    "                tirar_pao)\n",
    "\n",
    "receita()"
   ]
  },
  {
   "cell_type": "code",
   "execution_count": 9,
   "metadata": {
    "collapsed": false
   },
   "outputs": [
    {
     "data": {
      "text/plain": [
       "720"
      ]
     },
     "execution_count": 9,
     "metadata": {},
     "output_type": "execute_result"
    }
   ],
   "source": [
    "l_fatorial = lambda n: 1 if n == 0 else n * l_fatorial(n-1)\n",
    "l_fatorial(6)"
   ]
  },
  {
   "cell_type": "markdown",
   "metadata": {},
   "source": [
    "## Encadeando funções e combinando valores de retorno"
   ]
  },
  {
   "cell_type": "code",
   "execution_count": 12,
   "metadata": {
    "collapsed": false
   },
   "outputs": [
    {
     "data": {
      "text/plain": [
       "12"
      ]
     },
     "execution_count": 12,
     "metadata": {},
     "output_type": "execute_result"
    }
   ],
   "source": [
    "def mult_em_cadeia(*oque):\n",
    "    total = 1\n",
    "    for (fnc, arg) in oque:\n",
    "        total *= fnc(arg)\n",
    "    return total\n",
    "\n",
    "mult_em_cadeia((l_fatorial, 2), (l_fatorial, 3))"
   ]
  },
  {
   "cell_type": "markdown",
   "metadata": {},
   "source": [
    "## Executando qualquer operação"
   ]
  },
  {
   "cell_type": "code",
   "execution_count": 19,
   "metadata": {
    "collapsed": false
   },
   "outputs": [
    {
     "name": "stdout",
     "output_type": "stream",
     "text": [
      "Multiplicação:  12\n",
      "Adição:  9\n"
     ]
    }
   ],
   "source": [
    "import operator\n",
    "\n",
    "def op_em_cadeia(como, *oque):\n",
    "    total = 1\n",
    "    for(fnc, arg) in oque:\n",
    "        total = como(total, fnc(arg))\n",
    "    return total\n",
    "\n",
    "print('Multiplicação: ', op_em_cadeia(operator.mul, (l_fatorial, 2), (l_fatorial, 3)))\n",
    "print('Adição: ', op_em_cadeia(operator.add, (l_fatorial, 2), (l_fatorial, 3)))"
   ]
  },
  {
   "cell_type": "code",
   "execution_count": null,
   "metadata": {
    "collapsed": true
   },
   "outputs": [],
   "source": []
  }
 ],
 "metadata": {
  "kernelspec": {
   "display_name": "Python 3",
   "language": "python",
   "name": "python3"
  },
  "language_info": {
   "codemirror_mode": {
    "name": "ipython",
    "version": 3
   },
   "file_extension": ".py",
   "mimetype": "text/x-python",
   "name": "python",
   "nbconvert_exporter": "python",
   "pygments_lexer": "ipython3",
   "version": "3.6.0"
  }
 },
 "nbformat": 4,
 "nbformat_minor": 2
}
