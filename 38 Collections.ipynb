{
 "cells": [
  {
   "cell_type": "markdown",
   "metadata": {},
   "source": [
    "## Collections.namedtuple\n",
    "É uma função do tipo factory. Só que não gera objetos, mas gera classes que precisam ser instanciadas"
   ]
  },
  {
   "cell_type": "code",
   "execution_count": 2,
   "metadata": {
    "collapsed": false
   },
   "outputs": [
    {
     "name": "stdout",
     "output_type": "stream",
     "text": [
      "Bonato tem 49 anos de idade\n",
      "José tem 19 anos de idade\n"
     ]
    }
   ],
   "source": [
    "from collections import namedtuple\n",
    "\n",
    "Person = namedtuple('Pessoa', ['nome', 'idade'])\n",
    "professor = Person(nome='Bonato', idade=49)\n",
    "print('%s tem %s anos de idade' %(professor.nome, professor.idade))\n",
    "aluno = Person(nome='José', idade=19)\n",
    "print('%s tem %s anos de idade' %(aluno.nome, aluno.idade))"
   ]
  },
  {
   "cell_type": "markdown",
   "metadata": {},
   "source": [
    "## collections.OrderedDict\n",
    "Se seu código precisa que a ordem dos elementos em um dictionary seja reservada, use OrderedDict"
   ]
  },
  {
   "cell_type": "code",
   "execution_count": 3,
   "metadata": {
    "collapsed": false
   },
   "outputs": [
    {
     "name": "stdout",
     "output_type": "stream",
     "text": [
      "Lagarto é um Réptil\n",
      "Baleia é um Mamífero\n"
     ]
    }
   ],
   "source": [
    "from collections import OrderedDict\n",
    "\n",
    "d = OrderedDict([\n",
    "    ('Lagarto', 'Réptil'),\n",
    "    ('Baleia', 'Mamífero')\n",
    "])\n",
    "\n",
    "for especie, classe in d.items():\n",
    "    print('%s é um %s' % (especie, classe))"
   ]
  },
  {
   "cell_type": "markdown",
   "metadata": {},
   "source": [
    "## collections.defaultdict\n",
    "Use defaultdict se você quiser que chaves inexistentes retornem um valor padrão em vez de exception KeyError."
   ]
  },
  {
   "cell_type": "code",
   "execution_count": 4,
   "metadata": {
    "collapsed": false
   },
   "outputs": [
    {
     "name": "stdout",
     "output_type": "stream",
     "text": [
      "Bonato gosta de Python\n",
      "Ninguém gosta de PHP\n"
     ]
    }
   ],
   "source": [
    "from collections import defaultdict\n",
    "\n",
    "linguagem_de_programacao_favorita = {\n",
    "    'Bonato' : 'Python',\n",
    "    'Andrey' : 'Java',\n",
    "    'Pedro' : 'Cobol'\n",
    "}\n",
    "\n",
    "d = defaultdict(lambda: 'PHP')\n",
    "d.update(linguagem_de_programacao_favorita)\n",
    "print('Bonato gosta de', d['Bonato'])\n",
    "print('Ninguém gosta de', d['Ninguém'])"
   ]
  },
  {
   "cell_type": "code",
   "execution_count": null,
   "metadata": {
    "collapsed": true
   },
   "outputs": [],
   "source": []
  }
 ],
 "metadata": {
  "kernelspec": {
   "display_name": "Python 3",
   "language": "python",
   "name": "python3"
  },
  "language_info": {
   "codemirror_mode": {
    "name": "ipython",
    "version": 3
   },
   "file_extension": ".py",
   "mimetype": "text/x-python",
   "name": "python",
   "nbconvert_exporter": "python",
   "pygments_lexer": "ipython3",
   "version": "3.6.0"
  }
 },
 "nbformat": 4,
 "nbformat_minor": 2
}
