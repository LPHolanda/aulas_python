{
 "cells": [
  {
   "cell_type": "markdown",
   "metadata": {},
   "source": [
    "## Monads: variáveis que decidem como querem ser tratadas\n",
    "Definindo uma função camelcase, que transforma 'uma_string_como_essa' em 'UmaStringComoEssa'"
   ]
  },
  {
   "cell_type": "code",
   "execution_count": 3,
   "metadata": {
    "collapsed": false
   },
   "outputs": [
    {
     "name": "stdout",
     "output_type": "stream",
     "text": [
      "AlgumaFuncao\n"
     ]
    }
   ],
   "source": [
    "def camelcase(s):\n",
    "    return ''.join([w.capitalize() for w in s.split('_')])\n",
    "\n",
    "print(camelcase('alguma_funcao'))"
   ]
  },
  {
   "cell_type": "markdown",
   "metadata": {},
   "source": [
    "#### Executando a função camelcase passo a passo para melhor entendimento"
   ]
  },
  {
   "cell_type": "code",
   "execution_count": 4,
   "metadata": {
    "collapsed": true
   },
   "outputs": [],
   "source": [
    "s = 'alguma_funcao'"
   ]
  },
  {
   "cell_type": "code",
   "execution_count": 5,
   "metadata": {
    "collapsed": false
   },
   "outputs": [
    {
     "data": {
      "text/plain": [
       "['alguma', 'funcao']"
      ]
     },
     "execution_count": 5,
     "metadata": {},
     "output_type": "execute_result"
    }
   ],
   "source": [
    "s.split('_')"
   ]
  },
  {
   "cell_type": "code",
   "execution_count": 6,
   "metadata": {
    "collapsed": false
   },
   "outputs": [
    {
     "data": {
      "text/plain": [
       "['Alguma', 'Funcao']"
      ]
     },
     "execution_count": 6,
     "metadata": {},
     "output_type": "execute_result"
    }
   ],
   "source": [
    "[w.capitalize() for w in s.split('_')]"
   ]
  },
  {
   "cell_type": "code",
   "execution_count": 8,
   "metadata": {
    "collapsed": false
   },
   "outputs": [
    {
     "data": {
      "text/plain": [
       "'AlgumaFuncao'"
      ]
     },
     "execution_count": 8,
     "metadata": {},
     "output_type": "execute_result"
    }
   ],
   "source": [
    "''.join(['Alguma', 'Funcao'])"
   ]
  },
  {
   "cell_type": "markdown",
   "metadata": {},
   "source": [
    "## A Maybe monad\n",
    "A maybe monad consiste de dois tipos de dados, que tipicamente são chamados Just e Nothing. \n",
    "Ambos se comportam de uma maneira muito simples:\n",
    "- quando uma função é vinculada a um valor Just, a função é simplesmente executada e o resultado é armazenado em um novo valor Just;\n",
    "- quando a função é vinculada a um valor Nothing, a função é bypassada e Nothing é retornado;\n",
    "- quando uma função gera um erro, ela retorna um Nothing"
   ]
  },
  {
   "cell_type": "code",
   "execution_count": 14,
   "metadata": {
    "collapsed": false
   },
   "outputs": [
    {
     "name": "stdout",
     "output_type": "stream",
     "text": [
      "AlgumaFuncao\n",
      "Nothing\n",
      "Nothing\n"
     ]
    }
   ],
   "source": [
    "class Just:\n",
    "    def __init__(self, value):\n",
    "        self._value = value\n",
    "    \n",
    "    def bind(self, fnc):\n",
    "        \n",
    "        try:\n",
    "            return Just(fnc(self._value))\n",
    "        except:\n",
    "            return Nothing()\n",
    "        \n",
    "    def __repr__(self):\n",
    "        return self._value\n",
    "    \n",
    "class Nothing:\n",
    "    def bind(self, fnc):\n",
    "        return Nothing()\n",
    "    \n",
    "    def __repr__(self):\n",
    "        return 'Nothing'\n",
    "    \n",
    "print(Just('alguma_funcao').bind(camelcase))\n",
    "print(Nothing().bind(camelcase))\n",
    "print(Just(10).bind(camelcase))"
   ]
  },
  {
   "cell_type": "markdown",
   "metadata": {},
   "source": [
    "## A List Monad\n",
    "A List Monad armazena uma lista de valores. Quando é vinculada a uma função, cada valor é passado para a função separadamente e o resultado é armazenado em uma outra List."
   ]
  },
  {
   "cell_type": "code",
   "execution_count": 15,
   "metadata": {
    "collapsed": false
   },
   "outputs": [
    {
     "data": {
      "text/plain": [
       "['AlgumTexto', 'MaisTexto']"
      ]
     },
     "execution_count": 15,
     "metadata": {},
     "output_type": "execute_result"
    }
   ],
   "source": [
    "class List:\n",
    "    def __init__(self, values):\n",
    "        self._values = values\n",
    "    \n",
    "    def bind(self, fnc):\n",
    "        return List([fnc(value) for value in self._values])\n",
    "    \n",
    "    def __repr__(self):\n",
    "        return str(self._values)\n",
    "    \n",
    "List(['algum_texto', 'mais_texto']).bind(camelcase)"
   ]
  },
  {
   "cell_type": "code",
   "execution_count": null,
   "metadata": {
    "collapsed": true
   },
   "outputs": [],
   "source": []
  }
 ],
 "metadata": {
  "kernelspec": {
   "display_name": "Python 3",
   "language": "python",
   "name": "python3"
  },
  "language_info": {
   "codemirror_mode": {
    "name": "ipython",
    "version": 3
   },
   "file_extension": ".py",
   "mimetype": "text/x-python",
   "name": "python",
   "nbconvert_exporter": "python",
   "pygments_lexer": "ipython3",
   "version": "3.6.0"
  }
 },
 "nbformat": 4,
 "nbformat_minor": 2
}
